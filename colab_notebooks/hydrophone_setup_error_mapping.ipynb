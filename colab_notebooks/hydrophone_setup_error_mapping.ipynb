{
  "nbformat": 4,
  "nbformat_minor": 0,
  "metadata": {
    "colab": {
      "name": "hydrophone_setup_error_mapping",
      "provenance": [],
      "collapsed_sections": []
    },
    "kernelspec": {
      "name": "python3",
      "display_name": "Python 3"
    },
    "language_info": {
      "name": "python"
    }
  },
  "cells": [
    {
      "cell_type": "markdown",
      "metadata": {
        "id": "KIdwSK_-cHI6"
      },
      "source": [
        "# Test"
      ]
    },
    {
      "cell_type": "code",
      "metadata": {
        "id": "5azkyEVkR39B"
      },
      "source": [
        "import numpy as np"
      ],
      "execution_count": null,
      "outputs": []
    },
    {
      "cell_type": "code",
      "metadata": {
        "id": "DIyHEf-p4jHy"
      },
      "source": [
        "L = 8.8\n",
        "W = 3.2"
      ],
      "execution_count": null,
      "outputs": []
    },
    {
      "cell_type": "code",
      "metadata": {
        "id": "WVaciEth4mwB"
      },
      "source": [
        "res = 1e1\n",
        "xx,yy = np.mgrid[0:L:1/res,0:W:1/res]"
      ],
      "execution_count": null,
      "outputs": []
    },
    {
      "cell_type": "code",
      "metadata": {
        "id": "DIBOaljm5E7T"
      },
      "source": [
        "def get_mask(center, radius, error, pts=(xx,yy)):\n",
        "  return np.abs(np.sqrt((pts[0] - center[0])**2 + (pts[1] - center[1])**2) - radius) <= error"
      ],
      "execution_count": null,
      "outputs": []
    },
    {
      "cell_type": "code",
      "metadata": {
        "id": "PUTdfacCGeg6"
      },
      "source": [
        "import matplotlib.pyplot as plt"
      ],
      "execution_count": null,
      "outputs": []
    },
    {
      "cell_type": "code",
      "metadata": {
        "id": "F7r6LomrG9Nc"
      },
      "source": [
        "def maskshow(mask):\n",
        "  plt.imshow(mask.T)"
      ],
      "execution_count": null,
      "outputs": []
    },
    {
      "cell_type": "code",
      "metadata": {
        "colab": {
          "base_uri": "https://localhost:8080/",
          "height": 172
        },
        "id": "9PaX-FpQG1FH",
        "outputId": "0a203c8e-3e18-45a3-86f0-32d453fc81c4"
      },
      "source": [
        "maskshow(get_mask((2,3), 5, 0.2))"
      ],
      "execution_count": null,
      "outputs": [
        {
          "output_type": "display_data",
          "data": {
            "image/png": "[encoded data removed]",
            "text/plain": [
              "<Figure size 432x288 with 1 Axes>"
            ]
          },
          "metadata": {
            "needs_background": "light"
          }
        }
      ]
    },
    {
      "cell_type": "code",
      "metadata": {
        "id": "3R9S3e5DG4aS"
      },
      "source": [
        "centers = np.array((\n",
        "           (0.2, 0.2),\n",
        "           (L - 0.2, 0.2),\n",
        "           (L - 0.2, W - 0.2),\n",
        "           (0.2, W - 0.2)\n",
        "))"
      ],
      "execution_count": null,
      "outputs": []
    },
    {
      "cell_type": "code",
      "metadata": {
        "id": "RnO1pzbNHanw"
      },
      "source": [
        "def get_pt_mask(pt, error=0.2):\n",
        "  pt = np.array(pt)\n",
        "  mask = np.ones_like(xx, dtype=bool)\n",
        "  for center in centers:  # vectorize?\n",
        "    mask &= get_mask(center, np.linalg.norm(pt - center), error)\n",
        "  return mask"
      ],
      "execution_count": null,
      "outputs": []
    },
    {
      "cell_type": "code",
      "metadata": {
        "colab": {
          "base_uri": "https://localhost:8080/",
          "height": 189
        },
        "id": "RZH_sRxjHpWV",
        "outputId": "542a1ca4-1976-4484-8d82-a622b9dd387e"
      },
      "source": [
        "mask = get_pt_mask((5.4, 2.5))\n",
        "maskshow(mask)\n",
        "mask.sum()"
      ],
      "execution_count": null,
      "outputs": [
        {
          "output_type": "execute_result",
          "data": {
            "text/plain": [
              "15"
            ]
          },
          "metadata": {},
          "execution_count": 58
        },
        {
          "output_type": "display_data",
          "data": {
            "image/png": "[encoded data removed]",
            "text/plain": [
              "<Figure size 432x288 with 1 Axes>"
            ]
          },
          "metadata": {
            "needs_background": "light"
          }
        }
      ]
    },
    {
      "cell_type": "code",
      "metadata": {
        "colab": {
          "base_uri": "https://localhost:8080/",
          "height": 172
        },
        "id": "vHr4PkBzcjVT",
        "outputId": "8b2f2f11-5d5a-4187-8318-b9279d8d32cc"
      },
      "source": [
        "pt = np.array((L - 0.5, W / 2))\n",
        "maskshow(get_mask(centers[0],  np.linalg.norm(pt - centers[0]), 0.2))"
      ],
      "execution_count": null,
      "outputs": [
        {
          "output_type": "display_data",
          "data": {
            "image/png": "[encoded data removed]",
            "text/plain": [
              "<Figure size 432x288 with 1 Axes>"
            ]
          },
          "metadata": {
            "needs_background": "light"
          }
        }
      ]
    },
    {
      "cell_type": "code",
      "metadata": {
        "colab": {
          "base_uri": "https://localhost:8080/",
          "height": 172
        },
        "id": "N8rI7cMEdQwT",
        "outputId": "ae368adb-58a8-4810-9690-b588cc4d0009"
      },
      "source": [
        "maskshow(get_mask(centers[1],  np.linalg.norm(pt - centers[1]), 0.2))"
      ],
      "execution_count": null,
      "outputs": [
        {
          "output_type": "display_data",
          "data": {
            "image/png": "[encoded data removed]",
            "text/plain": [
              "<Figure size 432x288 with 1 Axes>"
            ]
          },
          "metadata": {
            "needs_background": "light"
          }
        }
      ]
    },
    {
      "cell_type": "code",
      "metadata": {
        "colab": {
          "base_uri": "https://localhost:8080/",
          "height": 172
        },
        "id": "5f8fSHuydUob",
        "outputId": "02bccae6-0368-4828-b16f-7b76fe6422ac"
      },
      "source": [
        "maskshow(get_mask(centers[2],  np.linalg.norm(pt - centers[2]), 0.2))"
      ],
      "execution_count": null,
      "outputs": [
        {
          "output_type": "display_data",
          "data": {
            "image/png": "[encoded data removed]",
            "text/plain": [
              "<Figure size 432x288 with 1 Axes>"
            ]
          },
          "metadata": {
            "needs_background": "light"
          }
        }
      ]
    },
    {
      "cell_type": "code",
      "metadata": {
        "colab": {
          "base_uri": "https://localhost:8080/",
          "height": 172
        },
        "id": "aJhq8mMmdW7J",
        "outputId": "1dacefe5-4575-4ba1-9046-f64b9e018a1a"
      },
      "source": [
        "maskshow(get_mask(centers[3],  np.linalg.norm(pt - centers[3]), 0.2))"
      ],
      "execution_count": null,
      "outputs": [
        {
          "output_type": "display_data",
          "data": {
            "image/png": "[encoded data removed]",
            "text/plain": [
              "<Figure size 432x288 with 1 Axes>"
            ]
          },
          "metadata": {
            "needs_background": "light"
          }
        }
      ]
    },
    {
      "cell_type": "code",
      "metadata": {
        "colab": {
          "base_uri": "https://localhost:8080/",
          "height": 189
        },
        "id": "W7_9Ttn-caLY",
        "outputId": "c825379d-70b4-47ba-e2c6-b93ea12f5ed3"
      },
      "source": [
        "mask = get_pt_mask((L - 0.5, W / 2))\n",
        "maskshow(mask)\n",
        "mask.sum()"
      ],
      "execution_count": null,
      "outputs": [
        {
          "output_type": "execute_result",
          "data": {
            "text/plain": [
              "22"
            ]
          },
          "metadata": {},
          "execution_count": 59
        },
        {
          "output_type": "display_data",
          "data": {
            "image/png": "[encoded data removed]",
            "text/plain": [
              "<Figure size 432x288 with 1 Axes>"
            ]
          },
          "metadata": {
            "needs_background": "light"
          }
        }
      ]
    },
    {
      "cell_type": "code",
      "metadata": {
        "colab": {
          "base_uri": "https://localhost:8080/",
          "height": 189
        },
        "id": "bg_uIoWNIJ-2",
        "outputId": "efdcef08-419f-4e32-fd5b-edb2012b132d"
      },
      "source": [
        "mask = get_pt_mask((1.4, 1.5))\n",
        "maskshow(mask)\n",
        "mask.sum()"
      ],
      "execution_count": null,
      "outputs": [
        {
          "output_type": "execute_result",
          "data": {
            "text/plain": [
              "13"
            ]
          },
          "metadata": {},
          "execution_count": 11
        },
        {
          "output_type": "display_data",
          "data": {
            "image/png": "[encoded data removed]",
            "text/plain": [
              "<Figure size 432x288 with 1 Axes>"
            ]
          },
          "metadata": {
            "needs_background": "light"
          }
        }
      ]
    },
    {
      "cell_type": "code",
      "metadata": {
        "colab": {
          "base_uri": "https://localhost:8080/",
          "height": 189
        },
        "id": "LXF3V1OyIxLj",
        "outputId": "a2a7b08d-7f11-439a-f7d6-17ea5dd800bc"
      },
      "source": [
        "mask = get_pt_mask((L/2, W/2))\n",
        "maskshow(mask)\n",
        "mask.sum()"
      ],
      "execution_count": null,
      "outputs": [
        {
          "output_type": "execute_result",
          "data": {
            "text/plain": [
              "27"
            ]
          },
          "metadata": {},
          "execution_count": 12
        },
        {
          "output_type": "display_data",
          "data": {
            "image/png": "[encoded data removed]",
            "text/plain": [
              "<Figure size 432x288 with 1 Axes>"
            ]
          },
          "metadata": {
            "needs_background": "light"
          }
        }
      ]
    },
    {
      "cell_type": "code",
      "metadata": {
        "colab": {
          "base_uri": "https://localhost:8080/",
          "height": 189
        },
        "id": "k-APORVdTZU2",
        "outputId": "2e04d9ae-889d-4a02-f847-84c1c8c5ab22"
      },
      "source": [
        "mask = get_pt_mask((0.3, 0.3))\n",
        "maskshow(mask)\n",
        "mask.sum()"
      ],
      "execution_count": null,
      "outputs": [
        {
          "output_type": "execute_result",
          "data": {
            "text/plain": [
              "14"
            ]
          },
          "metadata": {},
          "execution_count": 13
        },
        {
          "output_type": "display_data",
          "data": {
            "image/png": "[encoded data removed]",
            "text/plain": [
              "<Figure size 432x288 with 1 Axes>"
            ]
          },
          "metadata": {
            "needs_background": "light"
          }
        }
      ]
    },
    {
      "cell_type": "code",
      "metadata": {
        "id": "7U5UW5BNTqfg"
      },
      "source": [
        ""
      ],
      "execution_count": null,
      "outputs": []
    },
    {
      "cell_type": "markdown",
      "metadata": {
        "id": "6Ah2JGjScIvr"
      },
      "source": [
        "# ACtual"
      ]
    },
    {
      "cell_type": "markdown",
      "metadata": {
        "id": "7aKeyT5tc6B-"
      },
      "source": [
        ""
      ]
    },
    {
      "cell_type": "code",
      "metadata": {
        "id": "2Tgu8MVkaLTL"
      },
      "source": [
        "import numpy as np\n",
        "import matplotlib.pyplot as plt"
      ],
      "execution_count": null,
      "outputs": []
    },
    {
      "cell_type": "code",
      "metadata": {
        "id": "eSgCxlJzaIYi"
      },
      "source": [
        "L = 8.8\n",
        "W = 3.2"
      ],
      "execution_count": null,
      "outputs": []
    },
    {
      "cell_type": "code",
      "metadata": {
        "id": "JN7R7Vw5aNvc"
      },
      "source": [
        "res = 4e1\n",
        "xx,yy = np.mgrid[0:L:1/res,0:W:1/res]"
      ],
      "execution_count": null,
      "outputs": []
    },
    {
      "cell_type": "code",
      "metadata": {
        "id": "DwoU496vaX9M"
      },
      "source": [
        "def get_mask(center, radius, error, pts=(xx,yy)):\n",
        "  return np.abs(np.sqrt((pts[0] - center[0])**2 + (pts[1] - center[1])**2) - radius) <= error"
      ],
      "execution_count": null,
      "outputs": []
    },
    {
      "cell_type": "code",
      "metadata": {
        "id": "ZvAdBniTaU38"
      },
      "source": [
        "def get_pt_mask(pt, centers, pts=(xx,yy), error=0.2):\n",
        "  pt = np.array(pt)\n",
        "  mask = np.ones_like(pts[0], dtype=bool)\n",
        "  for center in centers:  # vectorize?\n",
        "    mask &= get_mask(center, np.linalg.norm(pt - center), error, pts=pts)\n",
        "  return mask"
      ],
      "execution_count": null,
      "outputs": []
    },
    {
      "cell_type": "code",
      "metadata": {
        "id": "RGOmHFeEd4Xx"
      },
      "source": [
        "def get_error_distribution(centers, xx=xx, yy=yy):\n",
        "  aa = np.zeros_like(xx, dtype=int)\n",
        "  for i in range(xx.shape[0]):\n",
        "    for j in range(xx.shape[1]):\n",
        "      aa[i, j] = get_pt_mask((xx[i, j], yy[i, j]), centers, pts=(xx, yy)).sum()\n",
        "  # aa[:,:] = get_pt_mask((xx[:,:], yy[:,:])).sum() \n",
        "  return aa"
      ],
      "execution_count": null,
      "outputs": []
    },
    {
      "cell_type": "code",
      "metadata": {
        "id": "IaMbcR3Ia0BK"
      },
      "source": [
        "centers = np.array((\n",
        "           (0.2, 0.2),\n",
        "           (L - 0.2, 0.2),\n",
        "           (L - 0.2, W - 0.2),\n",
        "           (0.2, W - 0.2)\n",
        "))"
      ],
      "execution_count": null,
      "outputs": []
    },
    {
      "cell_type": "code",
      "metadata": {
        "colab": {
          "base_uri": "https://localhost:8080/",
          "height": 258
        },
        "id": "DZoqKnDvUHYD",
        "outputId": "a3ffe9fd-ce42-4a74-9f9a-9506d3010ba8"
      },
      "source": [
        "plt.contourf(xx,yy, np.sqrt(get_error_distribution(centers) / np.pi) / res, vmin=0, vmax=0.4)\n",
        "plt.colorbar()\n",
        "plt.scatter(centers.T[0], centers.T[1], c='r', s=80) #, size='10')\n",
        "plt.gca().set_aspect('equal', adjustable='box')"
      ],
      "execution_count": null,
      "outputs": [
        {
          "output_type": "display_data",
          "data": {
            "image/png": "[encoded data removed]",
            "text/plain": [
              "<Figure size 432x288 with 2 Axes>"
            ]
          },
          "metadata": {
            "needs_background": "light"
          }
        }
      ]
    },
    {
      "cell_type": "code",
      "metadata": {
        "id": "wlY994H0TmH5"
      },
      "source": [
        "centers = np.array((\n",
        "           (L/2, 0.2),\n",
        "           (L - 0.2, W/2),\n",
        "           (L/2, W - 0.2),\n",
        "           (0.2, W/2)\n",
        "))"
      ],
      "execution_count": null,
      "outputs": []
    },
    {
      "cell_type": "code",
      "metadata": {
        "colab": {
          "base_uri": "https://localhost:8080/",
          "height": 258
        },
        "id": "wO-0WfNFa3d0",
        "outputId": "b86735ee-cd61-4648-d601-ee8021e40351"
      },
      "source": [
        "plt.contourf(xx,yy, np.sqrt(get_error_distribution(centers) / np.pi) / res, vmin=0, vmax=0.4)\n",
        "plt.colorbar()\n",
        "plt.scatter(centers.T[0], centers.T[1], c='r', s=80) #, size='10')\n",
        "plt.gca().set_aspect('equal', adjustable='box')"
      ],
      "execution_count": null,
      "outputs": [
        {
          "output_type": "display_data",
          "data": {
            "image/png": "[encoded data removed]",
            "text/plain": [
              "<Figure size 432x288 with 2 Axes>"
            ]
          },
          "metadata": {
            "needs_background": "light"
          }
        }
      ]
    },
    {
      "cell_type": "code",
      "metadata": {
        "id": "Ef6rEUFqa3t1"
      },
      "source": [
        "centers = np.array((\n",
        "           (L/2 - 2, 0.2),\n",
        "           (L - 0.2, W/2 - 1 ),\n",
        "           (L/2 + 1, W - 0.2),\n",
        "           (0.2, W/2 + 1)\n",
        "))"
      ],
      "execution_count": null,
      "outputs": []
    },
    {
      "cell_type": "code",
      "metadata": {
        "colab": {
          "base_uri": "https://localhost:8080/",
          "height": 258
        },
        "id": "8U3n-WURfP3j",
        "outputId": "a289a278-9dc0-47d2-91f0-f6019b1852c3"
      },
      "source": [
        "plt.contourf(xx,yy, np.sqrt(get_error_distribution(centers) / np.pi) / res, vmin=0, vmax=0.4)\n",
        "plt.colorbar()\n",
        "plt.scatter(centers.T[0], centers.T[1], c='r', s=80) #, size='10')\n",
        "plt.gca().set_aspect('equal', adjustable='box')"
      ],
      "execution_count": null,
      "outputs": [
        {
          "output_type": "display_data",
          "data": {
            "image/png": "[encoded data removed]",
            "text/plain": [
              "<Figure size 432x288 with 2 Axes>"
            ]
          },
          "metadata": {
            "needs_background": "light"
          }
        }
      ]
    },
    {
      "cell_type": "code",
      "metadata": {
        "id": "6NZ46mtc-NMm"
      },
      "source": [
        "centers = np.array((\n",
        "           (3.07, 0),\n",
        "           (6.365, 0),\n",
        "           (3.07, 3.06),\n",
        "           (0, 1.595)\n",
        "))"
      ],
      "execution_count": null,
      "outputs": []
    },
    {
      "cell_type": "code",
      "metadata": {
        "colab": {
          "base_uri": "https://localhost:8080/",
          "height": 258
        },
        "id": "3MpduTPk-OPC",
        "outputId": "4a4e2933-9e4f-4458-addb-1b290a948902"
      },
      "source": [
        "plt.contourf(xx,yy, np.sqrt(get_error_distribution(centers) / np.pi) / res, vmin=0, vmax=0.4)\n",
        "plt.colorbar()\n",
        "plt.scatter(centers.T[0], centers.T[1], c='r', s=80) #, size='10')\n",
        "plt.gca().set_aspect('equal', adjustable='box')"
      ],
      "execution_count": null,
      "outputs": [
        {
          "output_type": "display_data",
          "data": {
            "image/png": "[encoded data removed]",
            "text/plain": [
              "<Figure size 432x288 with 2 Axes>"
            ]
          },
          "metadata": {
            "needs_background": "light"
          }
        }
      ]
    },
    {
      "cell_type": "code",
      "metadata": {
        "id": "uiBZYgADAORd"
      },
      "source": [
        "centers = np.array((\n",
        "           (3.07, 0),\n",
        "           (6.365, 0),\n",
        "           (3.07, 3.06),\n",
        "           (6.365, 3.06)\n",
        "))"
      ],
      "execution_count": null,
      "outputs": []
    },
    {
      "cell_type": "code",
      "metadata": {
        "colab": {
          "base_uri": "https://localhost:8080/",
          "height": 258
        },
        "id": "HY-rlpYTASdb",
        "outputId": "832bc25c-a018-400b-c301-e7cef68ba326"
      },
      "source": [
        "plt.contourf(xx,yy, np.sqrt(get_error_distribution(centers) / np.pi) / res, vmin=0, vmax=0.4)\n",
        "plt.colorbar()\n",
        "plt.scatter(centers.T[0], centers.T[1], c='r', s=80) #, size='10')\n",
        "plt.gca().set_aspect('equal', adjustable='box')"
      ],
      "execution_count": null,
      "outputs": [
        {
          "output_type": "display_data",
          "data": {
            "image/png": "[encoded data removed]",
            "text/plain": [
              "<Figure size 432x288 with 2 Axes>"
            ]
          },
          "metadata": {
            "needs_background": "light"
          }
        }
      ]
    },
    {
      "cell_type": "markdown",
      "metadata": {
        "id": "E7qT0Oa2fRKB"
      },
      "source": [
        "# Test ||ogram configs"
      ]
    },
    {
      "cell_type": "code",
      "metadata": {
        "id": "rURvc9BZKzQq"
      },
      "source": [
        "import numpy as np\n",
        "import matplotlib.pyplot as plt"
      ],
      "execution_count": null,
      "outputs": []
    },
    {
      "cell_type": "code",
      "metadata": {
        "id": "A0miFM6zLMkY"
      },
      "source": [
        "L = 8.8\n",
        "W = 3.2\n",
        "res = 2e1\n",
        "xx, yy = np.mgrid[0:L:1/res,0:W:1/res]"
      ],
      "execution_count": null,
      "outputs": []
    },
    {
      "cell_type": "code",
      "metadata": {
        "id": "r2kExOP3Kua8"
      },
      "source": [
        "n_configs = 100\n",
        "mu = np.linspace(0, 0.48, n_configs)"
      ],
      "execution_count": null,
      "outputs": []
    },
    {
      "cell_type": "code",
      "metadata": {
        "id": "ksZEIYacLDbm"
      },
      "source": [
        "base_centers = np.array((\n",
        "           (L/2, 0.2),\n",
        "           (L - 0.2, W/2),\n",
        "           (L/2, W - 0.2),\n",
        "           (0.2, W/2)\n",
        "))"
      ],
      "execution_count": null,
      "outputs": []
    },
    {
      "cell_type": "code",
      "metadata": {
        "id": "gFGPYxy5LUdF"
      },
      "source": [
        "def get_centers(mu=0):\n",
        "  diff = np.array((\n",
        "           (L*mu, 0),\n",
        "           (0, W*mu),\n",
        "           (-L*mu, 0),\n",
        "           (0, -W*mu)\n",
        "  ))\n",
        "  return base_centers + diff"
      ],
      "execution_count": null,
      "outputs": []
    },
    {
      "cell_type": "code",
      "metadata": {
        "id": "qN6RyVfjLtW7"
      },
      "source": [
        "def get_pt_mask(pt, centers=base_centers, pts=(xx,yy), error=0.2):\n",
        "  pt = np.array(pt)\n",
        "  mask = np.ones_like(pts[0], dtype=bool)\n",
        "  for center in centers:  # vectorize?\n",
        "    mask &= np.abs(np.sqrt((pts[0] - center[0])**2 + (pts[1] - center[1])**2) - np.linalg.norm(pt - center)) <= error \n",
        "  return mask"
      ],
      "execution_count": null,
      "outputs": []
    },
    {
      "cell_type": "code",
      "metadata": {
        "id": "UeJp_mu5L-dB"
      },
      "source": [
        "def get_error_distribution(centers, pts=(xx,yy)):\n",
        "  xx, yy = pts\n",
        "  errors = np.zeros_like(xx, dtype=int)\n",
        "  for i in range(errors.shape[0]):\n",
        "    for j in range(errors.shape[1]):\n",
        "      errors[i, j] = get_pt_mask((xx[i, j], yy[i, j]), centers, pts=pts).sum()\n",
        "  # aa[:,:] = get_pt_mask((xx[:,:], yy[:,:])).sum() \n",
        "  return np.sqrt(errors / np.pi) / res"
      ],
      "execution_count": null,
      "outputs": []
    },
    {
      "cell_type": "code",
      "metadata": {
        "id": "d2C9ocmEMenZ"
      },
      "source": [
        "def plot_distribution(centers, errors):\n",
        "  plt.contourf(xx,yy, errors, vmin=0, vmax=0.4)\n",
        "  plt.colorbar()\n",
        "  plt.scatter(centers.T[0], centers.T[1], c='r', s=80) #, size='10')\n",
        "  plt.gca().set_aspect('equal', adjustable='box')"
      ],
      "execution_count": null,
      "outputs": []
    },
    {
      "cell_type": "code",
      "metadata": {
        "colab": {
          "base_uri": "https://localhost:8080/",
          "height": 275
        },
        "id": "X9f3URwbM9r6",
        "outputId": "206a6f61-7762-4e14-b1df-a0cebf848b6f"
      },
      "source": [
        "mu = 0.0\n",
        "centers = get_centers(mu)\n",
        "dist = get_error_distribution(centers)\n",
        "plot_distribution(centers, dist)\n",
        "print(f\"mu = {mu:.2f}\\tError: ({dist.min():.3f}, {dist.max():.3f}) :  {dist.mean():.3f} meters\")"
      ],
      "execution_count": null,
      "outputs": [
        {
          "output_type": "stream",
          "name": "stdout",
          "text": [
            "mu = 0.00\tError: (0.116, 0.272) :  0.216 meters\n"
          ]
        },
        {
          "output_type": "display_data",
          "data": {
            "image/png": "[encoded data removed]",
            "text/plain": [
              "<Figure size 432x288 with 2 Axes>"
            ]
          },
          "metadata": {
            "needs_background": "light"
          }
        }
      ]
    },
    {
      "cell_type": "code",
      "metadata": {
        "colab": {
          "base_uri": "https://localhost:8080/",
          "height": 275
        },
        "id": "5wve06fzNGAX",
        "outputId": "87c7d49f-991b-412f-c699-1f447c239c26"
      },
      "source": [
        "mu = 0.1\n",
        "centers = get_centers(mu)\n",
        "dist = get_error_distribution(centers)\n",
        "plot_distribution(centers, dist)\n",
        "print(f\"mu = {mu:.2f}\\tError: ({dist.min():.3f}, {dist.max():.3f}) :  {dist.mean():.3f} meters\")"
      ],
      "execution_count": null,
      "outputs": [
        {
          "output_type": "stream",
          "name": "stdout",
          "text": [
            "mu = 0.10\tError: (0.116, 0.266) :  0.216 meters\n"
          ]
        },
        {
          "output_type": "display_data",
          "data": {
            "image/png": "[encoded data removed]",
            "text/plain": [
              "<Figure size 432x288 with 2 Axes>"
            ]
          },
          "metadata": {
            "needs_background": "light"
          }
        }
      ]
    },
    {
      "cell_type": "code",
      "metadata": {
        "colab": {
          "base_uri": "https://localhost:8080/",
          "height": 275
        },
        "id": "XauwCX29N7lv",
        "outputId": "e46cc8bf-7641-4fdb-dc38-7380044befea"
      },
      "source": [
        "mu = 0.2\n",
        "centers = get_centers(mu)\n",
        "dist = get_error_distribution(centers)\n",
        "plot_distribution(centers, dist)\n",
        "print(f\"mu = {mu:.2f}\\tError: ({dist.min():.3f}, {dist.max():.3f}) :  {dist.mean():.3f} meters\")"
      ],
      "execution_count": null,
      "outputs": [
        {
          "output_type": "stream",
          "name": "stdout",
          "text": [
            "mu = 0.20\tError: (0.116, 0.255) :  0.217 meters\n"
          ]
        },
        {
          "output_type": "display_data",
          "data": {
            "image/png": "[encoded data removed]",
            "text/plain": [
              "<Figure size 432x288 with 2 Axes>"
            ]
          },
          "metadata": {
            "needs_background": "light"
          }
        }
      ]
    },
    {
      "cell_type": "code",
      "metadata": {
        "colab": {
          "base_uri": "https://localhost:8080/",
          "height": 275
        },
        "id": "Fm_S8AkyN8UW",
        "outputId": "6fcdf5ec-0909-4f0d-ef31-9cf7328a1e12"
      },
      "source": [
        "mu = 0.3\n",
        "centers = get_centers(mu)\n",
        "dist = get_error_distribution(centers)\n",
        "plot_distribution(centers, dist)\n",
        "print(f\"mu = {mu:.2f}\\tError: ({dist.min():.3f}, {dist.max():.3f}) :  {dist.mean():.3f} meters\")"
      ],
      "execution_count": null,
      "outputs": [
        {
          "output_type": "stream",
          "name": "stdout",
          "text": [
            "mu = 0.30\tError: (0.116, 0.266) :  0.218 meters\n"
          ]
        },
        {
          "output_type": "display_data",
          "data": {
            "image/png": "[encoded data removed]",
            "text/plain": [
              "<Figure size 432x288 with 2 Axes>"
            ]
          },
          "metadata": {
            "needs_background": "light"
          }
        }
      ]
    },
    {
      "cell_type": "code",
      "metadata": {
        "colab": {
          "base_uri": "https://localhost:8080/",
          "height": 275
        },
        "id": "E0chINNMN9Hm",
        "outputId": "d53efd23-5f9c-4df7-db2a-acf893131439"
      },
      "source": [
        "mu = 0.4\n",
        "centers = get_centers(mu)\n",
        "dist = get_error_distribution(centers)\n",
        "plot_distribution(centers, dist)\n",
        "print(f\"mu = {mu:.2f}\\tError: ({dist.min():.3f}, {dist.max():.3f}) :  {dist.mean():.3f} meters\")"
      ],
      "execution_count": null,
      "outputs": [
        {
          "output_type": "stream",
          "name": "stdout",
          "text": [
            "mu = 0.40\tError: (0.116, 0.274) :  0.219 meters\n"
          ]
        },
        {
          "output_type": "display_data",
          "data": {
            "image/png": "[encoded data removed]",
            "text/plain": [
              "<Figure size 432x288 with 2 Axes>"
            ]
          },
          "metadata": {
            "needs_background": "light"
          }
        }
      ]
    },
    {
      "cell_type": "code",
      "metadata": {
        "colab": {
          "base_uri": "https://localhost:8080/",
          "height": 275
        },
        "id": "SLSqIhMRN_LE",
        "outputId": "174e5d60-a017-4933-d226-69c68bbbf4e9"
      },
      "source": [
        "mu = 0.15\n",
        "centers = get_centers(mu)\n",
        "dist = get_error_distribution(centers)\n",
        "plot_distribution(centers, dist)\n",
        "print(f\"mu = {mu:.2f}\\tError: ({dist.min():.3f}, {dist.max():.3f}) :  {dist.mean():.3f} meters\")"
      ],
      "execution_count": null,
      "outputs": [
        {
          "output_type": "stream",
          "name": "stdout",
          "text": [
            "mu = 0.15\tError: (0.116, 0.260) :  0.216 meters\n"
          ]
        },
        {
          "output_type": "display_data",
          "data": {
            "image/png": "[encoded data removed]",
            "text/plain": [
              "<Figure size 432x288 with 2 Axes>"
            ]
          },
          "metadata": {
            "needs_background": "light"
          }
        }
      ]
    },
    {
      "cell_type": "code",
      "metadata": {
        "colab": {
          "base_uri": "https://localhost:8080/",
          "height": 275
        },
        "id": "gbZDCiISORHJ",
        "outputId": "349cbcf9-8f8b-4bb6-9c0b-d179f4b69c51"
      },
      "source": [
        "mu = 0.2\n",
        "centers = get_centers(mu)\n",
        "dist = get_error_distribution(centers)\n",
        "plot_distribution(centers, dist)\n",
        "print(f\"mu = {mu:.2f}\\tError: ({dist.min():.5f}, {dist.max():.5f}) :  {dist.mean():.5f} meters\")"
      ],
      "execution_count": null,
      "outputs": [
        {
          "output_type": "stream",
          "name": "stdout",
          "text": [
            "mu = 0.20\tError: (0.11631, 0.25545) :  0.21665 meters\n"
          ]
        },
        {
          "output_type": "display_data",
          "data": {
            "image/png": "[encoded data removed]",
            "text/plain": [
              "<Figure size 432x288 with 2 Axes>"
            ]
          },
          "metadata": {
            "needs_background": "light"
          }
        }
      ]
    },
    {
      "cell_type": "code",
      "metadata": {
        "colab": {
          "base_uri": "https://localhost:8080/",
          "height": 275
        },
        "id": "keIUbFBOORld",
        "outputId": "297465ac-f24a-4f4c-d52f-10c4998eef17"
      },
      "source": [
        "mu = 0.175\n",
        "centers = get_centers(mu)\n",
        "dist = get_error_distribution(centers)\n",
        "plot_distribution(centers, dist)\n",
        "print(f\"mu = {mu:.2f}\\tError: ({dist.min():.5f}, {dist.max():.5f}) :  {dist.mean():.5f} meters\")"
      ],
      "execution_count": null,
      "outputs": [
        {
          "output_type": "stream",
          "name": "stdout",
          "text": [
            "mu = 0.17\tError: (0.11631, 0.25545) :  0.21647 meters\n"
          ]
        },
        {
          "output_type": "display_data",
          "data": {
            "image/png": "[encoded data removed]",
            "text/plain": [
              "<Figure size 432x288 with 2 Axes>"
            ]
          },
          "metadata": {
            "needs_background": "light"
          }
        }
      ]
    },
    {
      "cell_type": "code",
      "metadata": {
        "colab": {
          "base_uri": "https://localhost:8080/"
        },
        "id": "Fj9GGD5cOSg9",
        "outputId": "47e8d436-3ff5-4698-ac00-3b86d76ea495"
      },
      "source": [
        "print(centers)"
      ],
      "execution_count": null,
      "outputs": [
        {
          "output_type": "stream",
          "name": "stdout",
          "text": [
            "[[5.94 0.2 ]\n",
            " [8.6  2.16]\n",
            " [2.86 3.  ]\n",
            " [0.2  1.04]]\n"
          ]
        }
      ]
    },
    {
      "cell_type": "code",
      "metadata": {
        "id": "bMTwt6MPOxl_"
      },
      "source": [
        ""
      ],
      "execution_count": null,
      "outputs": []
    },
    {
      "cell_type": "code",
      "metadata": {
        "id": "MsMcNq_LAMFh"
      },
      "source": [
        ""
      ],
      "execution_count": null,
      "outputs": []
    }
  ]
}