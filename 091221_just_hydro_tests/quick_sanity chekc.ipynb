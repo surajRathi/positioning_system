{
 "cells": [
  {
   "cell_type": "code",
   "execution_count": 43,
   "id": "d2788e49",
   "metadata": {},
   "outputs": [],
   "source": [
    "import numpy as np\n",
    "import matplotlib.pyplot as plt"
   ]
  },
  {
   "cell_type": "code",
   "execution_count": 44,
   "id": "408a57ed",
   "metadata": {},
   "outputs": [],
   "source": [
    "run_name = 'just_hydro_0m_151121-18-17_38'\n",
    "filename = f\"../data/full/{run_name}/pico.npts\""
   ]
  },
  {
   "cell_type": "code",
   "execution_count": 45,
   "id": "696e1342",
   "metadata": {},
   "outputs": [
    {
     "name": "stdout",
     "output_type": "stream",
     "text": [
      "-rw-rw-r-- 1 suraj suraj 158M Nov 15 18:17 ../data/full/just_hydro_0m_151121-18-17_38/pico.npts\r\n"
     ]
    }
   ],
   "source": [
    "!ls -lh '{filename}'"
   ]
  },
  {
   "cell_type": "code",
   "execution_count": 46,
   "id": "425238ae",
   "metadata": {},
   "outputs": [],
   "source": [
    "fs = 1e6\n",
    "dt = 1.0 / fs"
   ]
  },
  {
   "cell_type": "code",
   "execution_count": 47,
   "id": "1532d678",
   "metadata": {},
   "outputs": [],
   "source": [
    "import numpy as np\n",
    "import struct\n",
    "\n",
    "\n",
    "from scipy.signal import butter, lfilter, filtfilt, hilbert\n",
    "class BP:\n",
    "    def __init__(self, fs=1e6, low=30e3, high=50e3, order=5, preserve_phase=False):\n",
    "        nyq = 0.5 * fs\n",
    "        self.coeffs = butter(order, [low / nyq, high / nyq], btype='band')\n",
    "        self.apply = filtfilt if preserve_phase else lfilter\n",
    "\n",
    "    def __call__(self, data):\n",
    "        return self.apply(*self.coeffs, data, axis=0)\n",
    "\n",
    "class MA:\n",
    "    def __init__(self, fs=1e6, dt=1e-3):\n",
    "        self.n = int(fs * dt)\n",
    "        self.kernel = np.ones((self.n,), dtype=np.int32) / self.n\n",
    "\n",
    "    def __call__(self, data):\n",
    "        out = np.empty_like(data)\n",
    "        for i in range(data.shape[1]):\n",
    "            out[:, i] = np.convolve(data[:, i], self.kernel, mode='same')\n",
    "        return out\n",
    "\n",
    "class Hilbert:\n",
    "    def __init__(self, fs=1e6):\n",
    "        pass\n",
    "\n",
    "    def __call__(self, data):\n",
    "        # out = np.empty_like(data)\n",
    "        # for i in range(data.shape[1]):\n",
    "        #     out[:, i] = np.convolve(data[:, i], self.kernel, mode='same')\n",
    "        return np.abs(hilbert(data))\n",
    "\n",
    "class PicoDataLoader:\n",
    "    bufsize = 100000\n",
    "    time_len = struct.calcsize('<d')\n",
    "    time_unpack = struct.Struct('<d').unpack_from\n",
    "    \n",
    "    def __init__(self, filename):  # filename: Union[str, path_like, File object]\n",
    "        self.filename = filename\n",
    "        self.file = None\n",
    "        self.band_pass = BP(fs=fs, low=35e3, high=45e3)\n",
    "        self.envelope = MA(fs=fs, dt=6e-5)\n",
    "    \n",
    "    def open(self):\n",
    "        # For compatibility with tarfiles\n",
    "        # See: https://github.com/numpy/numpy/issues/7989#issuecomment-340921579\n",
    "        if self.file is not None:\n",
    "            self.close()\n",
    "        import io\n",
    "        if isinstance(self.filename, io.BufferedReader):\n",
    "          array_file = io.BytesIO()\n",
    "          array_file.write(self.filename.read())\n",
    "          array_file.seek(0)\n",
    "          self.file = array_file\n",
    "        else:\n",
    "          self.file = open(self.filename, 'rb')\n",
    "    \n",
    "    def get(self):\n",
    "        if self.file is None:\n",
    "            raise Exception(\"Use ```open``` and ```close```\")\n",
    "        try:\n",
    "            t = self.time_unpack(self.file.read(self.time_len))[0]\n",
    "            arr = np.load(self.file)\n",
    "            out = self.envelope(np.abs(self.band_pass(arr)))\n",
    "            # out = self.envelope(np.abs(bp - bp.mean(axis=0)))\n",
    "            return t, out.astype(arr.dtype)\n",
    "        except ValueError:\n",
    "            raise StopIteration()\n",
    "        except struct.error:\n",
    "            raise StopIteration()\n",
    "\n",
    "    def close(self):\n",
    "        if self.file is not None:\n",
    "            self.file.close()"
   ]
  },
  {
   "cell_type": "code",
   "execution_count": 48,
   "id": "b6387a21",
   "metadata": {},
   "outputs": [],
   "source": [
    "reader = PicoDataLoader(filename)\n",
    "reader.open()"
   ]
  },
  {
   "cell_type": "code",
   "execution_count": 49,
   "id": "eef30ee1",
   "metadata": {},
   "outputs": [],
   "source": [
    "import itertools\n",
    "import numpy as np\n",
    "\n",
    "\n",
    "# TODO: how to deal with multiple sets of zero crossing,\n",
    "# TODO: groupby can bre replaced my numpy indexing i think\n",
    "# notes for function def stage_1(signal, winsize_zero_cross, fs, run_plot)\n",
    "# stage 1 does the following processes:\n",
    "# 1. filter use IIR bandpass filters\n",
    "# 2. estimate the zero-crossing of the first peak in two stages\n",
    "#    first of which is approximate position where first peak crosses the threshold of 10% of signal mean\n",
    "#    second stage, wherein use curvature of the signal to estimate a more-accurate estimate of zero-crossing\n",
    "# Availible defaults           500,1e6,                    0,\n",
    "def Est_ZC_stage_1(signal, winsize, std_noise_multiplier, run_plot=False, plot_title='zero_crossing'):\n",
    "    def sum_index(index_limit, reshaped_group_results_len):\n",
    "        ind_count = 0\n",
    "        for k in range(0, index_limit):\n",
    "            ind_count = ind_count + reshaped_group_results_len[k]\n",
    "        return ind_count\n",
    "\n",
    "    def ZC_estimation(signal_h, noise_threshold, n_max_p):\n",
    "\n",
    "        # estimate out part of the signal which is > threshold\n",
    "        results = np.where(signal_h > noise_threshold, True, False)\n",
    "\n",
    "        # itertools groupby aims to group the array in groups of True and False\n",
    "        # where g is the groups and k is unique key/ value in each group\n",
    "        # size/ length of the groups is given by len(list(g)) and is stored as an np.array\n",
    "        group_results_len = np.array([len(list(g)) for k, g in itertools.groupby(results)])\n",
    "\n",
    "        # only the first value of each groups (True or False) is stored in this array - will now correspond to each group\n",
    "        # for which length are estimated previously\n",
    "        group_results_value = np.array([list(g)[0] for k, g in itertools.groupby(results)])\n",
    "\n",
    "        # indices & group-length wherein corresponding value in group_results_value is True\n",
    "        ind_of_group_results_value_for_trues = np.array(np.where(group_results_value == True))\n",
    "        group_len_counts_of_true = (group_results_len[ind_of_group_results_value_for_trues])\n",
    "\n",
    "        # indices of top n_max maximuma of group_len_counts_of_true\n",
    "        ind_n_max_group_len_counts_of_true = np.array(np.argsort(-group_len_counts_of_true))\n",
    "\n",
    "        # manipulations to match the shape of the arrays\n",
    "        group_len_counts_of_true = group_len_counts_of_true.T\n",
    "        ind_n_max_group_len_counts_of_true = ind_n_max_group_len_counts_of_true.T\n",
    "\n",
    "        # how many maxs (top-n) need to be estimated?\n",
    "        n_max = int(len(group_len_counts_of_true) * n_max_p / 100)\n",
    "        if n_max <= 2:\n",
    "            n_max = int(len(group_len_counts_of_true))\n",
    "\n",
    "        ind_n_max_group_len_counts_of_true = np.array(ind_n_max_group_len_counts_of_true[0:n_max])\n",
    "\n",
    "        # what are the values of the top-n (sorted) group-lengths of trues?\n",
    "        values_maxes_in_group_results_len = np.array((group_len_counts_of_true[ind_n_max_group_len_counts_of_true]))\n",
    "        values_maxes_in_group_results_len = np.reshape(values_maxes_in_group_results_len, (n_max, 1))\n",
    "\n",
    "        # manipulations to match the shape of the arrays\n",
    "        reshaped_group_results_len = np.reshape(group_results_len, (len(group_results_len), 1))\n",
    "\n",
    "        # elementwise comparison of the arrays to estimate the starting indices of the n_max groups of True:\n",
    "        # comparison with the entire (true-false) list\n",
    "        ind_of_max_in_group_results_len = np.array(np.where(np.in1d(reshaped_group_results_len,\n",
    "                                                                    values_maxes_in_group_results_len)))\n",
    "\n",
    "        index_max_counts_of_true = np.zeros((len(ind_of_max_in_group_results_len), 1))\n",
    "        for i in range(len(ind_of_max_in_group_results_len)):\n",
    "            try:\n",
    "                index_max_counts_of_true[i] = sum_index(ind_of_max_in_group_results_len[i, 0],\n",
    "                                                        reshaped_group_results_len) + 1\n",
    "            except:\n",
    "                index_max_counts_of_true[i] = 0\n",
    "                break\n",
    "\n",
    "        Q_zero_cross_index = (np.min(index_max_counts_of_true[:, 0])).astype(int)\n",
    "\n",
    "        return Q_zero_cross_index\n",
    "\n",
    "    def plot_ZC(signal_h, Q_zero_cross_index, plot_title, winsize):\n",
    "        import matplotlib.pyplot as plt\n",
    "        from matplotlib.patches import Rectangle\n",
    "        index = Q_zero_cross_index\n",
    "        fig, axs = plt.subplots(1, figsize=(10,4))\n",
    "        fig.suptitle(plot_title)\n",
    "        axs.plot(signal_h, label='bandpass')\n",
    "        axs.plot(np.repeat(0, len(signal_h)), 'k--', label='zero level')\n",
    "        axs.plot(np.repeat(noise_threshold_1, len(signal_h)), 'r--', label='noise_threshold_1')\n",
    "        axs.plot(np.repeat(noise_threshold_2, len(signal_h)), 'b--', label='noise_threshold_2')\n",
    "        axs.plot(index, signal_h[index], 'o')\n",
    "        rect = Rectangle((index, 0), winsize * 2, np.max(signal_h) / 2, linewidth=3, edgecolor='r', facecolor='none')\n",
    "        axs.add_patch(rect)\n",
    "        axs.legend()\n",
    "\n",
    "    # filter first and then, normalise the signal for further processing\n",
    "    # estimate the envelope of the rectified signal using the hilbert transform\n",
    "    # estimate threshold\n",
    "    threshold = (np.mean(signal))\n",
    "    signal_noise_h = np.where(signal > threshold, 0, signal)\n",
    "    noise_threshold_1 = np.mean(signal_noise_h) + std_noise_multiplier * np.std(signal_noise_h)\n",
    "    noise_threshold_1 = 700\n",
    "    # print('noise_threshold_1', noise_threshold_1)\n",
    "\n",
    "    # first iteration\n",
    "    n_max_p = 5\n",
    "    init_est_ZC_index = ZC_estimation(signal, noise_threshold_1, n_max_p)\n",
    "    # print(f'init_est_ZC_index - {plot_title}', init_est_ZC_index)\n",
    "\n",
    "    # attempt to check the samples in the neighbourhood\n",
    "    hori_check_indices = np.linspace(max(init_est_ZC_index - winsize,0), min(init_est_ZC_index + winsize,signal.shape[0] - 1), winsize * 2, dtype=int)\n",
    "    if np.all(signal[hori_check_indices] < 10 * noise_threshold_1):\n",
    "        init_est_ZC_index = ZC_estimation(signal, noise_threshold_1 * 2, n_max_p)\n",
    "\n",
    "    # attempt to check the samples in the neighbourhood by selecting a window with elevated threshold\n",
    "    noise_threshold_2 = noise_threshold_1 * 1.25\n",
    "    # print('noise_threshold_2', noise_threshold_2)\n",
    "    second_est_ZC_index = 0\n",
    "    if signal[init_est_ZC_index] >= 3 * noise_threshold_1:\n",
    "        # second iteration\n",
    "        n_max_p = 50\n",
    "        sub_signal = signal[init_est_ZC_index - winsize: init_est_ZC_index + winsize]\n",
    "        ZC_subsignal = ZC_estimation(sub_signal, noise_threshold_2, n_max_p)\n",
    "        # print(f'ZC_subsignal - {plot_title}', ZC_subsignal)\n",
    "        second_est_ZC_index = init_est_ZC_index + (ZC_subsignal - winsize)\n",
    "        # print(f'second_est_ZC_index - {plot_title}', second_est_ZC_index)\n",
    "\n",
    "    if second_est_ZC_index != 0:\n",
    "        ZC_index = second_est_ZC_index\n",
    "    else:\n",
    "        ZC_index = init_est_ZC_index\n",
    "\n",
    "    if run_plot:\n",
    "        plot_ZC(signal, ZC_index, plot_title, winsize)\n",
    "\n",
    "    return ZC_index\n"
   ]
  },
  {
   "cell_type": "code",
   "execution_count": 50,
   "id": "b3f5809a",
   "metadata": {},
   "outputs": [],
   "source": [
    "reader.close()\n",
    "reader.open()\n",
    "t0 = reader.get()[0]\n",
    "reader.close()\n",
    "reader.open()\n",
    "\n",
    "from tqdm.notebook import tqdm\n",
    "import subprocess\n",
    "num_chunks = int(int(subprocess.run(f'du {reader.filename} | cut -f 1', shell=True, capture_output=True).stdout.decode('UTF-8')) // 976.7 + 1)"
   ]
  },
  {
   "cell_type": "code",
   "execution_count": 51,
   "id": "21dbf595",
   "metadata": {},
   "outputs": [
    {
     "data": {
      "text/plain": [
       "166"
      ]
     },
     "execution_count": 51,
     "metadata": {},
     "output_type": "execute_result"
    }
   ],
   "source": [
    "num_chunks"
   ]
  },
  {
   "cell_type": "code",
   "execution_count": 52,
   "id": "30a5cdd8",
   "metadata": {},
   "outputs": [
    {
     "data": {
      "application/vnd.jupyter.widget-view+json": {
       "model_id": "b8a625aba41a416daab2218150924c8e",
       "version_major": 2,
       "version_minor": 0
      },
      "text/plain": [
       "just_hydro_0m_151121-18-17_38:   0%|          | 0/166 [00:00<?, ?it/s]"
      ]
     },
     "metadata": {},
     "output_type": "display_data"
    }
   ],
   "source": [
    "ts = []\n",
    "arrs = []\n",
    "t_curr = t0\n",
    "\n",
    "with tqdm(total=num_chunks, desc=f'{run_name}: ') as progress_bar:\n",
    "    try:\n",
    "        for i in range(10000):\n",
    "            t, arr = reader.get()\n",
    "            arrs.append(arr)\n",
    "            index = Est_ZC_stage_1(arr[:, 0], int(0.004 * fs), 200, run_plot=False)\n",
    "            if index !=0:\n",
    "                ts.append(t_curr + index * dt)\n",
    "            t_curr += dt * arr.shape[0]\n",
    "            progress_bar.update(1)\n",
    "        else:\n",
    "            print('Data has more than 100000 sets')\n",
    "    except StopIteration:\n",
    "        pass"
   ]
  },
  {
   "cell_type": "code",
   "execution_count": 53,
   "id": "8b9a2171",
   "metadata": {},
   "outputs": [
    {
     "data": {
      "text/plain": [
       "((16500000, 5), dtype('int16'), 0.165, 'GB')"
      ]
     },
     "execution_count": 53,
     "metadata": {},
     "output_type": "execute_result"
    }
   ],
   "source": [
    "y = np.vstack(arrs)\n",
    "t = np.arange(y.shape[0]) * dt\n",
    "del arrs\n",
    "reader.close()\n",
    "y.shape, y.dtype, y.nbytes * 1e-9, \"GB\""
   ]
  },
  {
   "cell_type": "code",
   "execution_count": 54,
   "id": "201469f3",
   "metadata": {},
   "outputs": [],
   "source": [
    "ts = np.array(ts) - t0\n",
    "indices = (ts / dt).astype(int)"
   ]
  },
  {
   "cell_type": "code",
   "execution_count": 55,
   "id": "27ad2dff",
   "metadata": {},
   "outputs": [
    {
     "data": {
      "text/plain": [
       "(array([0]),)"
      ]
     },
     "execution_count": 55,
     "metadata": {},
     "output_type": "execute_result"
    }
   ],
   "source": [
    "np.where(np.diff(ts) < 0.9)"
   ]
  },
  {
   "cell_type": "code",
   "execution_count": 56,
   "id": "87fb510c",
   "metadata": {},
   "outputs": [
    {
     "data": {
      "text/plain": [
       "array([ 0.42249155,  0.52286863,  2.5724237 ,  3.59474158,  4.62424159,\n",
       "        5.63719368,  6.66494679,  7.69628072,  8.71636581,  9.73687577,\n",
       "       10.7675128 , 11.78750587, 12.70875692, 13.8364439 , 14.86033297,\n",
       "       15.88110089])"
      ]
     },
     "execution_count": 56,
     "metadata": {},
     "output_type": "execute_result"
    }
   ],
   "source": [
    "ts"
   ]
  },
  {
   "cell_type": "code",
   "execution_count": 62,
   "id": "4a60ca9b",
   "metadata": {
    "scrolled": true
   },
   "outputs": [
    {
     "data": {
      "image/png": "[encoded data removed]",
      "text/plain": [
       "<Figure size 1440x288 with 1 Axes>"
      ]
     },
     "metadata": {
      "needs_background": "light"
     },
     "output_type": "display_data"
    }
   ],
   "source": [
    "plt.figure(figsize=(20,4))\n",
    "plt.plot(t, y[:,0])\n",
    "for x in ts:\n",
    "    plt.axvline(x=x, color='red', linewidth=10, alpha=0.5)"
   ]
  },
  {
   "cell_type": "code",
   "execution_count": 68,
   "id": "8382561e",
   "metadata": {},
   "outputs": [
    {
     "data": {
      "image/png": "[encoded data removed]",
      "text/plain": [
       "<Figure size 1440x288 with 1 Axes>"
      ]
     },
     "metadata": {
      "needs_background": "light"
     },
     "output_type": "display_data"
    }
   ],
   "source": [
    "plt.figure(figsize=(20,4))\n",
    "plt.plot(t, y[:,1])\n",
    "for x in ts2:\n",
    "    plt.axvline(x=x, color='red', linewidth=10, alpha=0.5)"
   ]
  },
  {
   "cell_type": "code",
   "execution_count": 59,
   "id": "5bc0e484",
   "metadata": {},
   "outputs": [
    {
     "data": {
      "text/plain": [
       "array([ 0.42249155,  0.52286863,  2.5724237 ,  3.59474158,  4.62424159,\n",
       "        5.63719368,  6.66494679,  7.69628072,  8.71636581,  9.73687577,\n",
       "       10.7675128 , 11.78750587, 12.70875692, 13.8364439 , 14.86033297,\n",
       "       15.88110089])"
      ]
     },
     "execution_count": 59,
     "metadata": {},
     "output_type": "execute_result"
    }
   ],
   "source": [
    "ts"
   ]
  },
  {
   "cell_type": "code",
   "execution_count": 65,
   "id": "05bdd40b",
   "metadata": {},
   "outputs": [
    {
     "name": "stdout",
     "output_type": "stream",
     "text": [
      "fail\n"
     ]
    }
   ],
   "source": [
    "ts2 = np.zeros_like(ts)\n",
    "for i, tt in enumerate(ts):\n",
    "    index = Est_ZC_stage_1(y[int((tt - 0.1)*fs):int((tt+0.2)*fs), 1], int(0.004 * fs), 200, run_plot=False)\n",
    "    if index == 0:\n",
    "        print('fail')\n",
    "    ts2[i] = tt - 0.1 + index * dt"
   ]
  },
  {
   "cell_type": "code",
   "execution_count": 66,
   "id": "ee8f59b2",
   "metadata": {},
   "outputs": [
    {
     "data": {
      "text/plain": [
       "array([-7.7890e-03, -9.9999e-02, -9.5650e-03, -7.0610e-03, -1.0000e-01,\n",
       "       -2.5230e-03, -9.0000e-05, -1.1214e-02, -1.4320e-03, -5.2360e-03,\n",
       "       -1.1903e-02, -8.8490e-03, -3.5580e-03, -8.7350e-03, -8.6850e-03,\n",
       "       -5.4870e-03])"
      ]
     },
     "execution_count": 66,
     "metadata": {},
     "output_type": "execute_result"
    }
   ],
   "source": [
    "(ts2 - ts)[ts2 != 0]"
   ]
  },
  {
   "cell_type": "code",
   "execution_count": 67,
   "id": "67f44dfc",
   "metadata": {},
   "outputs": [
    {
     "data": {
      "text/plain": [
       "(array([ 0.42249155,  0.52286863,  2.5724237 ,  3.59474158,  4.62424159,\n",
       "         5.63719368,  6.66494679,  7.69628072,  8.71636581,  9.73687577,\n",
       "        10.7675128 , 11.78750587, 12.70875692, 13.8364439 , 14.86033297,\n",
       "        15.88110089]),\n",
       " array([ 0.41470255,  0.42286963,  2.5628587 ,  3.58768058,  4.52424159,\n",
       "         5.63467068,  6.66485679,  7.68506672,  8.71493381,  9.73163977,\n",
       "        10.7556098 , 11.77865687, 12.70519892, 13.8277089 , 14.85164797,\n",
       "        15.87561389]))"
      ]
     },
     "execution_count": 67,
     "metadata": {},
     "output_type": "execute_result"
    }
   ],
   "source": [
    "ts, ts2"
   ]
  },
  {
   "cell_type": "code",
   "execution_count": null,
   "id": "83fa9f77",
   "metadata": {},
   "outputs": [],
   "source": []
  }
 ],
 "metadata": {
  "kernelspec": {
   "display_name": "Python 3 (ipykernel)",
   "language": "python",
   "name": "python3"
  },
  "language_info": {
   "codemirror_mode": {
    "name": "ipython",
    "version": 3
   },
   "file_extension": ".py",
   "mimetype": "text/x-python",
   "name": "python",
   "nbconvert_exporter": "python",
   "pygments_lexer": "ipython3",
   "version": "3.9.5"
  }
 },
 "nbformat": 4,
 "nbformat_minor": 5
}
